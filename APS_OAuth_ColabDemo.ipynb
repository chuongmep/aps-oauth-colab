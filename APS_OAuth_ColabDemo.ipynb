{
  "nbformat": 4,
  "nbformat_minor": 0,
  "metadata": {
    "colab": {
      "provenance": []
    },
    "kernelspec": {
      "name": "python3",
      "display_name": "Python 3"
    },
    "language_info": {
      "name": "python"
    }
  },
  "cells": [
    {
      "cell_type": "code",
      "execution_count": 9,
      "metadata": {
        "colab": {
          "base_uri": "https://localhost:8080/"
        },
        "id": "bdfhQufbYSQC",
        "outputId": "6b27f262-29d1-4ab8-f1bc-bda243e167a8"
      },
      "outputs": [
        {
          "output_type": "stream",
          "name": "stdout",
          "text": [
            "Requirement already satisfied: aps-toolkit in /usr/local/lib/python3.10/dist-packages (0.6.3)\n",
            "Requirement already satisfied: requests in /usr/local/lib/python3.10/dist-packages (from aps-toolkit) (2.31.0)\n",
            "Requirement already satisfied: pandas in /usr/local/lib/python3.10/dist-packages (from aps-toolkit) (2.0.3)\n",
            "Requirement already satisfied: python-dateutil>=2.8.2 in /usr/local/lib/python3.10/dist-packages (from pandas->aps-toolkit) (2.8.2)\n",
            "Requirement already satisfied: pytz>=2020.1 in /usr/local/lib/python3.10/dist-packages (from pandas->aps-toolkit) (2023.4)\n",
            "Requirement already satisfied: tzdata>=2022.1 in /usr/local/lib/python3.10/dist-packages (from pandas->aps-toolkit) (2024.1)\n",
            "Requirement already satisfied: numpy>=1.21.0 in /usr/local/lib/python3.10/dist-packages (from pandas->aps-toolkit) (1.25.2)\n",
            "Requirement already satisfied: charset-normalizer<4,>=2 in /usr/local/lib/python3.10/dist-packages (from requests->aps-toolkit) (3.3.2)\n",
            "Requirement already satisfied: idna<4,>=2.5 in /usr/local/lib/python3.10/dist-packages (from requests->aps-toolkit) (3.7)\n",
            "Requirement already satisfied: urllib3<3,>=1.21.1 in /usr/local/lib/python3.10/dist-packages (from requests->aps-toolkit) (2.0.7)\n",
            "Requirement already satisfied: certifi>=2017.4.17 in /usr/local/lib/python3.10/dist-packages (from requests->aps-toolkit) (2024.2.2)\n",
            "Requirement already satisfied: six>=1.5 in /usr/local/lib/python3.10/dist-packages (from python-dateutil>=2.8.2->pandas->aps-toolkit) (1.16.0)\n"
          ]
        }
      ],
      "source": [
        "%pip install aps-toolkit --upgrade"
      ]
    },
    {
      "cell_type": "markdown",
      "source": [
        "# 2Leg"
      ],
      "metadata": {
        "id": "HFdX452ZYfmh"
      }
    },
    {
      "cell_type": "code",
      "source": [
        "from aps_toolkit import AuthGoogleColab\n",
        "from google.colab import userdata\n",
        "client_id = userdata.get('APS_CLIENT_ID')\n",
        "client_secret = userdata.get('APS_CLIENT_SECRET')\n",
        "auth = AuthGoogleColab(client_id,client_secret)\n",
        "token = auth.auth2leg()\n"
      ],
      "metadata": {
        "id": "H48TMbfGYbn0"
      },
      "execution_count": 5,
      "outputs": []
    },
    {
      "cell_type": "code",
      "source": [
        "print(token.access_token)"
      ],
      "metadata": {
        "id": "XQeQmKq0Yysl"
      },
      "execution_count": null,
      "outputs": []
    },
    {
      "cell_type": "markdown",
      "source": [
        "# 3Leg"
      ],
      "metadata": {
        "id": "0ukQkpXpYnDe"
      }
    },
    {
      "cell_type": "code",
      "source": [
        "from aps_toolkit import AuthGoogleColab\n",
        "from google.colab import userdata\n",
        "client_id = userdata.get('APS_CLIENT_ID')\n",
        "client_secret = userdata.get('APS_CLIENT_SECRET')\n",
        "redirect_uri = \"http://localhost:8080/api/auth/callback\"\n",
        "scopes = 'data:read viewables:read'\n",
        "token = auth.auth3leg(redirect_uri, scopes)\n"
      ],
      "metadata": {
        "id": "-q1ZpHjRY18n"
      },
      "execution_count": null,
      "outputs": []
    },
    {
      "cell_type": "code",
      "source": [
        "print(token.access_token)"
      ],
      "metadata": {
        "id": "HD9sDjVYY6Z9"
      },
      "execution_count": null,
      "outputs": []
    },
    {
      "cell_type": "markdown",
      "source": [
        "# 3Leg PKCE"
      ],
      "metadata": {
        "id": "xU5_taTrZDsJ"
      }
    },
    {
      "cell_type": "code",
      "source": [
        "from aps_toolkit import AuthGoogleColab\n",
        "client_id = userdata.get('APS_CLIENT_PKCE_ID')\n",
        "redirect_uri = \"http://localhost:8080/api/auth/callback\"\n",
        "scopes = 'data:read viewables:read'\n",
        "token = auth.auth3legPkce(client_id, redirect_uri, scopes)"
      ],
      "metadata": {
        "id": "FYA7UPDfZGM_"
      },
      "execution_count": null,
      "outputs": []
    }
  ]
}